{
 "cells": [
  {
   "cell_type": "markdown",
   "metadata": {},
   "source": [
    "# Human proteins Network\n",
    "\n"
   ]
  },
  {
   "cell_type": "code",
   "execution_count": 1,
   "metadata": {},
   "outputs": [],
   "source": [
    "import csv\n",
    "import scipy \n",
    "from scipy import sparse\n",
    "import scipy.sparse.linalg\n",
    "import numpy as np\n",
    "import matplotlib.pyplot as plt\n",
    "import matplotlib.colors as mcolors\n",
    "import networkx as nx\n",
    "from networkx.algorithms.community.quality import performance, coverage\n",
    "from networkx.algorithms.community.modularity_max import greedy_modularity_communities\n",
    "import community\n",
    "from collections import defaultdict"
   ]
  },
  {
   "cell_type": "markdown",
   "metadata": {},
   "source": [
    "The following lines of code are used to import the adjacency matrix of the human proteins network. \n",
    "Then, a scipy sparse matrix is created to store such matrix."
   ]
  },
  {
   "cell_type": "markdown",
   "metadata": {},
   "source": [
    "### Import Adjacency matrix"
   ]
  },
  {
   "cell_type": "code",
   "execution_count": 2,
   "metadata": {},
   "outputs": [],
   "source": [
    "class Network():\n",
    "    \n",
    "    def __init__(self,filename):\n",
    "        self.filename = filename\n",
    "        self.import_Network()\n",
    "        \n",
    "    def import_Network(self):\n",
    "\n",
    "        list_rows=[]\n",
    "\n",
    "        with open(self.filename) as tsvfile:\n",
    "            reader = csv.DictReader(tsvfile, dialect='excel-tab')\n",
    "            for row in reader:\n",
    "                s = row['% asym unweighted'].split()\n",
    "                list_rows.append(list(map(int, s)) )\n",
    "    \n",
    "        vals = np.array(list_rows)\n",
    "\n",
    "        self.row = vals[:,0]\n",
    "        self.col = vals[:,1]\n",
    "        self.data = np.ones(vals.shape[0])\n",
    "        self.num_vertices = int(np.max(self.col)) + 1\n",
    "        self.num_edges = int(np.sum(self.data))\n",
    "        \n",
    "        \n",
    "        self.adjacency = scipy.sparse.csr_matrix( (self.data, (self.row,self.col)), \n",
    "                                                 shape = (self.num_vertices,self.num_vertices))\n",
    "        self.set_laplacian_matrix()\n",
    "        \n",
    "        \n",
    "    def set_laplacian_matrix(self):\n",
    "        out_degree = self.get_outdegree()\n",
    "        \n",
    "        self.laplacian = scipy.sparse.lil_matrix((self.num_vertices,self.num_vertices))\n",
    "        self.laplacian.setdiag(np.array(out_degree).flatten())\n",
    "        self.laplacian = self.laplacian - scipy.sparse.lil_matrix(self.adjacency)\n",
    "        self.laplacian = scipy.sparse.csr_matrix(self.laplacian)        \n",
    "        \n",
    "        \n",
    "    def get_indegree(self):\n",
    "        degs = self.adjacency.sum(axis = 0)\n",
    "        return degs.flatten()\n",
    "    \n",
    "    def get_outdegree(self):\n",
    "        degs = self.adjacency.sum(axis = 1)\n",
    "        return degs.flatten()\n",
    "    \n",
    "\n",
    "net = Network('out.maayan-figeys')\n"
   ]
  },
  {
   "cell_type": "markdown",
   "metadata": {},
   "source": [
    "## Communities\n",
    "\n",
    "We can also define the graph using the NetworkX package."
   ]
  },
  {
   "cell_type": "code",
   "execution_count": 3,
   "metadata": {},
   "outputs": [],
   "source": [
    "G = nx.from_scipy_sparse_matrix(net.adjacency, create_using = nx.DiGraph())"
   ]
  },
  {
   "cell_type": "markdown",
   "metadata": {},
   "source": [
    "In this notebook we are going to study our network communities. \n",
    "\n",
    "The quality of a network partition can be measured by the partition **modularity**. Modularity is the fraction of the edges that fall within the given groups minus the expected fraction if edges were distributed at random. \n",
    "\n",
    "$$\n",
    "Q = \\sum_i (e_{ii} - a_i^2)\n",
    "$$\n",
    "\n",
    "where $e_{ij}$ is the fraction of the total number of links starting at a node in partition $i$ and ending at a node in partition $j$, and $a_i^2$ is the number of intracommunity links. The modularity falls into the range $[-1/2, 1]$. Higher values of modularity represent better partitions.\n",
    "\n",
    "## 1. Louvain algorithm\n",
    "\n",
    "An **optimal partition** is the one with highest modularity. In order to find this optimal partition, we will use **Louvain algorithm**. This algorithm roughly works as follows:\n",
    "\n",
    "+ *First phase*: First, each node is assigned to its own community. Then, for each node $i$, the change in modularity ($\\nabla Q$) is calculated for removing $i$ from its own community and adding it to a community of $j$, a neighbour of $i$. When $\\nabla Q$ is calculated for all neighbours of $i$, $i$ is assigned to the neighbour $j$ with highest modularity increase. If no increase is possible, $i$ remains in its community. The process is repeated to all nodes until no modularity increase is achieved. \n",
    "\n",
    "+ *Second phase:* it groups all of the nodes in the same community and builds a new network where nodes are the communities from the previous phase. Any links between nodes of the same community are now represented by self-loops on the new community node and links from multiple nodes in the same community to a node in a different community are represented by weighted edges between communities. Once the new network is created, the second phase has ended and the first phase can be re-applied to the new network."
   ]
  },
  {
   "cell_type": "code",
   "execution_count": 18,
   "metadata": {},
   "outputs": [
    {
     "name": "stdout",
     "output_type": "stream",
     "text": [
      "Number of partitions:  25\n"
     ]
    }
   ],
   "source": [
    "#Compute the best partition\n",
    "#We have to transform the graph to undirected in order to compute the partition\n",
    "H = G.to_undirected()\n",
    "partition = community.best_partition(H)\n",
    "\n",
    "#Compute the induced graph (the graph with nodes corresponding to partitions)\n",
    "ind = community.induced_graph(partition, H)\n",
    "num_part = ind.number_of_nodes()\n",
    "\n",
    "print('Number of partitions: ', num_part)"
   ]
  },
  {
   "cell_type": "markdown",
   "metadata": {},
   "source": [
    "The Louvain algorithm gave us 23 communities for the network. Let's visualize the nodes coloured according to the community.\n",
    "\n",
    "### Partition visualization"
   ]
  },
  {
   "cell_type": "code",
   "execution_count": 19,
   "metadata": {},
   "outputs": [
    {
     "data": {
      "image/png": "[encoded data removed]",
      "text/plain": [
       "<Figure size 432x288 with 1 Axes>"
      ]
     },
     "metadata": {},
     "output_type": "display_data"
    }
   ],
   "source": [
    "#drawing\n",
    "size = float(len(set(partition.values())))\n",
    "pos = nx.spring_layout(H)\n",
    "count = 0\n",
    "cols = list(mcolors.CSS4_COLORS.values())[-num_part:]\n",
    "for com in set(partition.values()) :\n",
    "    list_nodes = [nodes for nodes in partition.keys()\n",
    "                                if partition[nodes] == com]\n",
    "    nx.draw_networkx_nodes(H, pos, list_nodes, node_size = 20,\n",
    "                                node_color = cols[count])\n",
    "    count +=1\n",
    "\n",
    "nx.draw_networkx_edges(H, pos, alpha=0.8)\n",
    "plt.show()"
   ]
  },
  {
   "cell_type": "markdown",
   "metadata": {},
   "source": [
    "We observe that there are some isolated partitions. The other partitions are connected to each other."
   ]
  },
  {
   "cell_type": "code",
   "execution_count": 20,
   "metadata": {},
   "outputs": [
    {
     "name": "stdout",
     "output_type": "stream",
     "text": [
      "The modularity of our graph is:  0.46579042414250266\n"
     ]
    }
   ],
   "source": [
    "print('The modularity of our graph is: ', community.modularity(partition, H))"
   ]
  },
  {
   "cell_type": "markdown",
   "metadata": {},
   "source": [
    "We observe that the modularity of this partition is quite high. This means that we have found a good partition.\n",
    "\n",
    "Now we will draw the induced grap, that is, the grap where each node is a community of the original graph."
   ]
  },
  {
   "cell_type": "code",
   "execution_count": 21,
   "metadata": {},
   "outputs": [
    {
     "data": {
      "image/png": "[encoded data removed]",
      "text/plain": [
       "<Figure size 432x288 with 1 Axes>"
      ]
     },
     "metadata": {},
     "output_type": "display_data"
    }
   ],
   "source": [
    "nx.draw(ind, pos=nx.spring_layout(ind), width = 0.5, \n",
    "        node_size=20, node_color = cols)"
   ]
  },
  {
   "cell_type": "markdown",
   "metadata": {},
   "source": [
    "Again, we notice that there are some isolated communities surrounding a set of connected communities. \n",
    "\n",
    "### Number of nodes in the communities\n",
    "\n",
    "Next, we will look at the number of nodes of each community, to see if they are equally distributed or not."
   ]
  },
  {
   "cell_type": "code",
   "execution_count": 22,
   "metadata": {},
   "outputs": [],
   "source": [
    "part_values = np.array(list(partition.values()))\n",
    "list_nodes = np.array(H.nodes)\n",
    "\n",
    "\n",
    "partition_nodes = []\n",
    "num_nodes_part = []\n",
    "for i in range(num_part):\n",
    "    partition_nodes.append(frozenset(list_nodes[part_values==i]))\n",
    "    num_nodes_part.append(len(list_nodes[part_values==i]))"
   ]
  },
  {
   "cell_type": "code",
   "execution_count": 26,
   "metadata": {},
   "outputs": [
    {
     "name": "stdout",
     "output_type": "stream",
     "text": [
      "Number of nodes in the communities:  [  1   2   2   2   3   3   3   3   4  13  19  24  28  31  37  38  51  72\n",
      "  86  98 175 228 233 501 583]\n"
     ]
    },
    {
     "data": {
      "image/png": "[encoded data removed]",
      "text/plain": [
       "<Figure size 432x288 with 1 Axes>"
      ]
     },
     "metadata": {
      "needs_background": "light"
     },
     "output_type": "display_data"
    }
   ],
   "source": [
    "print('Number of nodes in the communities: ', np.array(sorted(num_nodes_part)))\n",
    "idx = list(np.argsort(-np.array(num_nodes_part)))\n",
    "\n",
    "plt.plot(np.arange(num_part), np.array(num_nodes_part)[idx], 'o')\n",
    "plt.title('Number of nodes in the partition')\n",
    "plt.xlabel('community number')\n",
    "plt.ylabel('number of nodes')\n",
    "plt.show()"
   ]
  },
  {
   "cell_type": "markdown",
   "metadata": {},
   "source": [
    "Observe that there are 10 communities with less than 4 nodes. These communities are therefore isolated. There are some medium communities with 29-250 nodes and then two larger communities with 507 and 607 nodes each."
   ]
  },
  {
   "cell_type": "markdown",
   "metadata": {},
   "source": [
    "### Performance and coverage\n",
    "\n",
    "Apart from the modularity, we are going to assess this partition using two measures:\n",
    "\n",
    "+ **Performance**: The performance of a partition is the ratio of the number of intra-community edges plus inter-community non-edges with the total number of potential edges.\n",
    "\n",
    "+ **Coverage**: The coverage of a partition is the ratio of the number of intra-community edges to the total number of edges in the graph."
   ]
  },
  {
   "cell_type": "code",
   "execution_count": 10,
   "metadata": {},
   "outputs": [
    {
     "name": "stdout",
     "output_type": "stream",
     "text": [
      "Parition performance:  0.8720582370956422\n",
      "Partition coverage:  0.6319962686567164\n"
     ]
    }
   ],
   "source": [
    "print('Parition performance: ', performance(H, partition_nodes))\n",
    "\n",
    "print('Partition coverage: ', coverage(H,partition_nodes))"
   ]
  },
  {
   "cell_type": "markdown",
   "metadata": {},
   "source": [
    "## 2. Clauset-Newman-Moore algorithm\n",
    "\n",
    "Finally, we are going to use another algorithm to calculate the best partition according to the modularity. This algorithm is implemented within the networkX module.  It uses Clauset-Newman-Moore greedy modularity maximization. Greedy modularity maximization begins with each node in its own community and joins the pair of communities that most increases modularity until no such pair exists."
   ]
  },
  {
   "cell_type": "code",
   "execution_count": 11,
   "metadata": {},
   "outputs": [
    {
     "name": "stdout",
     "output_type": "stream",
     "text": [
      "Number of communities:  32\n"
     ]
    }
   ],
   "source": [
    "nodes_part = greedy_modularity_communities(H)\n",
    "\n",
    "num_part = len(nodes_part)\n",
    "\n",
    "print('Number of communities: ', num_part)"
   ]
  },
  {
   "cell_type": "markdown",
   "metadata": {},
   "source": [
    "With this algorithm, the number of communities is even larger.\n",
    "\n",
    "### Partition visualization"
   ]
  },
  {
   "cell_type": "code",
   "execution_count": 12,
   "metadata": {},
   "outputs": [
    {
     "data": {
      "image/png": "[encoded data removed]",
      "text/plain": [
       "<Figure size 432x288 with 1 Axes>"
      ]
     },
     "metadata": {},
     "output_type": "display_data"
    }
   ],
   "source": [
    "#drawing\n",
    "size = float(len(set(partition.values())))\n",
    "pos = nx.spring_layout(H)\n",
    "count = 0\n",
    "cols = list(mcolors.CSS4_COLORS.values())[-num_part:]\n",
    "for com in set(partition.values()) :\n",
    "    list_nodes = [nodes for nodes in partition.keys()\n",
    "                                if partition[nodes] == com]\n",
    "    nx.draw_networkx_nodes(H, pos, list_nodes, node_size = 20,\n",
    "                                node_color = cols[count])\n",
    "    count +=1\n",
    "\n",
    "nx.draw_networkx_edges(H, pos, alpha=0.8)\n",
    "plt.show()"
   ]
  },
  {
   "cell_type": "markdown",
   "metadata": {},
   "source": [
    "Again, we observe that there are some isolated communities. The other communities are connected to each other.\n",
    "\n",
    "We can calculate the modularity for this partition."
   ]
  },
  {
   "cell_type": "code",
   "execution_count": 13,
   "metadata": {},
   "outputs": [
    {
     "name": "stdout",
     "output_type": "stream",
     "text": [
      "The modularity of our graph is:  0.4719860764004913\n"
     ]
    }
   ],
   "source": [
    "partition = defaultdict(int)\n",
    "\n",
    "for i in range(num_part):\n",
    "    for node in nodes_part[i]:\n",
    "        partition[node] = i\n",
    "\n",
    "partition = dict(partition)\n",
    "\n",
    "\n",
    "print('The modularity of our graph is: ', community.modularity(partition, H))"
   ]
  },
  {
   "cell_type": "markdown",
   "metadata": {},
   "source": [
    "The modularity is slightely higher than the one obtained with the previous algorithm."
   ]
  },
  {
   "cell_type": "code",
   "execution_count": 14,
   "metadata": {
    "scrolled": true
   },
   "outputs": [
    {
     "data": {
      "image/png": "[encoded data removed]",
      "text/plain": [
       "<Figure size 432x288 with 1 Axes>"
      ]
     },
     "metadata": {},
     "output_type": "display_data"
    }
   ],
   "source": [
    "ind = community.induced_graph(partition, H)\n",
    "nx.draw(ind, pos=nx.spring_layout(ind), width = 0.5, \n",
    "        node_size=20, node_color = cols)"
   ]
  },
  {
   "cell_type": "markdown",
   "metadata": {},
   "source": [
    "Again, we notice that there are some isolated communities surrounding a set of connected communities. It seems that in this case the number of isolated communities is higher than with the other algorithm.\n",
    "\n",
    "### Number of nodes in the communities\n",
    "\n",
    "Next, we will look at the number of nodes of each community, to see if they are equally distributed or not."
   ]
  },
  {
   "cell_type": "code",
   "execution_count": 15,
   "metadata": {},
   "outputs": [],
   "source": [
    "part_values = np.array(list(partition.values()))\n",
    "list_nodes = np.array(H.nodes)\n",
    "\n",
    "\n",
    "partition_nodes = []\n",
    "num_nodes_part = []\n",
    "for i in range(num_part):\n",
    "    partition_nodes.append(frozenset(list_nodes[part_values==i]))\n",
    "    num_nodes_part.append(len(list_nodes[part_values==i]))"
   ]
  },
  {
   "cell_type": "code",
   "execution_count": 16,
   "metadata": {},
   "outputs": [
    {
     "name": "stdout",
     "output_type": "stream",
     "text": [
      "Number of nodes in the communities:  [  1   2   2   2   2   2   3   3   3   3   3   3   4   4   4   4   5   6\n",
      "   9   9  11  13  20  21  43  51  72 108 278 442 510 597]\n"
     ]
    },
    {
     "data": {
      "image/png": "[encoded data removed]",
      "text/plain": [
       "<Figure size 432x288 with 1 Axes>"
      ]
     },
     "metadata": {
      "needs_background": "light"
     },
     "output_type": "display_data"
    }
   ],
   "source": [
    "print('Number of nodes in the communities: ', np.array(sorted(num_nodes_part)))\n",
    "plt.plot(range(num_part), num_nodes_part, 'o')\n",
    "plt.title('Number of nodes in the partition')\n",
    "plt.xlabel('community number')\n",
    "plt.ylabel('number of nodes')\n",
    "plt.show()"
   ]
  },
  {
   "cell_type": "markdown",
   "metadata": {},
   "source": [
    "In this case, there are 20 communities with less than 10 nodes. So, there are many more isolated communities.\n",
    "\n",
    "### Performance and coverage\n",
    "\n",
    "Finally, let's have a look at the performance and coverage measurements."
   ]
  },
  {
   "cell_type": "code",
   "execution_count": 17,
   "metadata": {},
   "outputs": [
    {
     "name": "stdout",
     "output_type": "stream",
     "text": [
      "Parition performance:  0.8197114464365469\n",
      "Partition coverage:  0.7136194029850746\n"
     ]
    }
   ],
   "source": [
    "print('Parition performance: ', performance(H, nodes_part))\n",
    "\n",
    "print('Partition coverage: ', coverage(H,nodes_part))"
   ]
  },
  {
   "cell_type": "markdown",
   "metadata": {},
   "source": [
    "It seems that this partition gives better results in terms of the performance, coverage and modularity. However, it has many more communities and most of them are isolated (with few number of nodes). Therefore, it may be that these small communities lack of physical meaning, even though having better performance in terms of the previous metrics. \n",
    "\n",
    "We can also conculde that, regardless of the selected algorithm, the modularity of our partition is quite high, and therefore it seems to be a good partition."
   ]
  },
  {
   "cell_type": "code",
   "execution_count": null,
   "metadata": {},
   "outputs": [],
   "source": []
  }
 ],
 "metadata": {
  "kernelspec": {
   "display_name": "Python (CN)",
   "language": "python",
   "name": "cn"
  },
  "language_info": {
   "codemirror_mode": {
    "name": "ipython",
    "version": 3
   },
   "file_extension": ".py",
   "mimetype": "text/x-python",
   "name": "python",
   "nbconvert_exporter": "python",
   "pygments_lexer": "ipython3",
   "version": "3.8.1"
  }
 },
 "nbformat": 4,
 "nbformat_minor": 4
}
