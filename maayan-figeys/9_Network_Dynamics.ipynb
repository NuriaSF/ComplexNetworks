{
 "cells": [
  {
   "cell_type": "markdown",
   "metadata": {},
   "source": [
    "# Human proteins Network\n",
    "\n"
   ]
  },
  {
   "cell_type": "code",
   "execution_count": 1,
   "metadata": {},
   "outputs": [],
   "source": [
    "import csv\n",
    "import scipy \n",
    "from scipy import sparse\n",
    "import scipy.sparse.linalg\n",
    "import numpy as np\n",
    "import matplotlib.pyplot as plt\n",
    "import matplotlib.colors as mcolors\n",
    "import networkx as nx\n",
    "from collections import defaultdict\n",
    "import random"
   ]
  },
  {
   "cell_type": "markdown",
   "metadata": {},
   "source": [
    "The following lines of code are used to import the adjacency matrix of the human proteins network. \n",
    "Then, a scipy sparse matrix is created to store such matrix.\n",
    "\n",
    "### Import Adjacency matrix"
   ]
  },
  {
   "cell_type": "code",
   "execution_count": 2,
   "metadata": {},
   "outputs": [],
   "source": [
    "class Network():\n",
    "    \n",
    "    def __init__(self,filename):\n",
    "        self.filename = filename\n",
    "        self.import_Network()\n",
    "        \n",
    "    def import_Network(self):\n",
    "\n",
    "        list_rows=[]\n",
    "\n",
    "        with open(self.filename) as tsvfile:\n",
    "            reader = csv.DictReader(tsvfile, dialect='excel-tab')\n",
    "            for row in reader:\n",
    "                s = row['% asym unweighted'].split()\n",
    "                list_rows.append(list(map(int, s)) )\n",
    "    \n",
    "        vals = np.array(list_rows)\n",
    "\n",
    "        self.row = vals[:,0]\n",
    "        self.col = vals[:,1]\n",
    "        self.data = np.ones(vals.shape[0])\n",
    "        self.num_vertices = int(np.max(self.col)) + 1\n",
    "        self.num_edges = int(np.sum(self.data))\n",
    "        \n",
    "        \n",
    "        self.adjacency = scipy.sparse.csr_matrix( (self.data, (self.row,self.col)), \n",
    "                                                 shape = (self.num_vertices,self.num_vertices))\n",
    "        self.set_laplacian_matrix()\n",
    "        \n",
    "        \n",
    "    def set_laplacian_matrix(self):\n",
    "        out_degree = self.get_outdegree()\n",
    "        \n",
    "        self.laplacian = scipy.sparse.lil_matrix((self.num_vertices,self.num_vertices))\n",
    "        self.laplacian.setdiag(np.array(out_degree).flatten())\n",
    "        self.laplacian = self.laplacian - scipy.sparse.lil_matrix(self.adjacency)\n",
    "        self.laplacian = scipy.sparse.csr_matrix(self.laplacian)        \n",
    "        \n",
    "        \n",
    "    def get_indegree(self):\n",
    "        degs = self.adjacency.sum(axis = 0)\n",
    "        return degs.flatten()\n",
    "    \n",
    "    def get_outdegree(self):\n",
    "        degs = self.adjacency.sum(axis = 1)\n",
    "        return degs.flatten()\n",
    "    \n",
    "\n",
    "net = Network('out.maayan-figeys')\n"
   ]
  },
  {
   "cell_type": "markdown",
   "metadata": {},
   "source": [
    "## Dynamics of the network\n",
    "\n",
    "In this section we are going to implement a dynamical evolution of the network states. Since our network consists of the interaction of proteins, we chose a popular dynamics in Biological regulatory systems: a **Boolean Network**. \n",
    "\n",
    "In this scenario, the state of each node can be either 0 or 1. These states have biological meaning. For example, the state 1 may mean that the protein has been expressed, while state 0 may mean otherwise. The evolution of the system is the following.\n",
    "\n",
    "Initially, all the nodes are initialized at random.The state of node $i$ at time $t+1$ is given by\n",
    "\n",
    "$$\n",
    "\\sigma_i(t+1) = f(\\sigma_{1}(t), \\cdots, \\sigma_{N}(t))\n",
    "$$\n",
    "\n",
    "where $N$ is the number of nodes of the network. The function $f$ depends on the biological system. In this case we are going to use the **Majority voting** dynamics. This function assigns to state $i$ the most common state among all the states from nodes which link to node $i$. Therefore, in this case:\n",
    "\n",
    "$$\n",
    "\\sigma_i(t+1) = \\text{majority_voting}(\\sigma_{j_1}(t), \\cdots, \\sigma_{j_k}(t))\n",
    "$$\n",
    "\n",
    "Where nodes $j_1, \\cdots, j_k$ link to node $i$. "
   ]
  },
  {
   "cell_type": "code",
   "execution_count": 73,
   "metadata": {},
   "outputs": [],
   "source": [
    "G = nx.from_scipy_sparse_matrix(net.adjacency, create_using = nx.DiGraph())"
   ]
  },
  {
   "cell_type": "code",
   "execution_count": 113,
   "metadata": {},
   "outputs": [],
   "source": [
    "class Boolean_Dynamics:\n",
    "    def __init__(self,G):\n",
    "        \"\"\"\n",
    "        Class that implements a Boolean Network's dynamics.\n",
    "        Args:\n",
    "            G (networkX Digraph): Directed graph\n",
    "            \n",
    "        Attributes:\n",
    "            G (networkX Digraph): Directed graph\n",
    "            old_states (numpy array): Array of states for time t-1\n",
    "            stop (bool): If true, the dynamics finishes\n",
    "            counter (int): Number of times the proportion of changed states has not changed\n",
    "            count_max (int): Maximum value of the counter before stoping the dynamical evolution\n",
    "        \"\"\"\n",
    "        self.G = G\n",
    "        self.initialize()\n",
    "        self.old_states = np.array([self.G.nodes[node]['state'] for node in self.G.nodes])\n",
    "        print('Proportion of 1ns ', np.mean(self.old_states))\n",
    "        self.stop = False\n",
    "        self.counter = 0\n",
    "        self.count_max = 10\n",
    "    \n",
    "    def initialize(self):\n",
    "        \"\"\"\n",
    "        Initializes the nodes' states randomly to 0 or 1\n",
    "        \"\"\"\n",
    "        # Remove nodes with no incoming edges\n",
    "        removal = []\n",
    "        for i in self.G.nodes:\n",
    "            edges_tuple = list(self.G.in_edges(i)) # Get incoming edges to node i\n",
    "            if len(edges_tuple)==0: \n",
    "                removal.append(i)\n",
    "        for i in removal:\n",
    "            self.G.remove_node(i)\n",
    "                \n",
    "        # Random states        \n",
    "        for i in self.G.nodes:  \n",
    "            self.G.nodes[i]['state']= 1 if random.uniform(0, 1) <0.5 else 0\n",
    "    \n",
    "    def update(self,i, new_G):\n",
    "        \"\"\"\n",
    "        Given a node i, it updates its state based on the states of its linked nodes\n",
    "        Args:\n",
    "            i (int): Node to be updated\n",
    "            new_G (networkX digraph): Graph at time t+1 (self.G is graph at time t)\n",
    "        \"\"\"\n",
    "        edges_tuple = list(self.G.in_edges(i)) # Get incoming edges to node i\n",
    "        in_nodes = [ed[0] for ed in edges_tuple] # Get the nodes of these edges\n",
    "        states = [self.G.nodes[node]['state'] for node in in_nodes] # Get the states of such nodes\n",
    "        if len(states)==0:\n",
    "            final_state = self.G.nodes[i]['state']\n",
    "        else:\n",
    "            final_state = 0 if np.mean(states)<0.5 else 1 # Update the state of node i using majority voting\n",
    "        #print(final_state, states)\n",
    "        new_G.nodes[i]['state'] = final_state\n",
    "    \n",
    "    def stopping(self,prop,old_prop, time, t_max):\n",
    "        \"\"\"\n",
    "        Stopping criteria\n",
    "        Args:\n",
    "            prop (float): If the proportion of changed states is less than  prop, stop the dynamics\n",
    "            old_prop (float): Proportion of previous iteration\n",
    "            time (int): time step\n",
    "            t_max (int): Maximum number of time steps\n",
    "        Returns:\n",
    "            true_prop (float): Proportion of changed states from time t to time t+1\n",
    "        \"\"\"\n",
    "        # We stop the dynamics if the proportion of changed states is less than prop\n",
    "        # Or if the proportion of changing states stabilizes\n",
    "        # Or if we reach a maximum number of iterations\n",
    "        \n",
    "        # Get the current states\n",
    "        new_states = np.array([self.G.nodes[node]['state'] for node in self.G.nodes])\n",
    "        dif = abs(self.old_states - new_states)\n",
    "        # Calculate the absolute difference with the old states to see how many of them have\n",
    "        # changed in this time step\n",
    "        true_prop = np.mean(dif)\n",
    "        if true_prop<prop: # If the proportion of changed states is smaller than prop, stop\n",
    "            self.stop = True\n",
    "        self.old_states = new_states\n",
    "        # If the proportion of changed states is the same as in the last iteration, increase the counter\n",
    "        if true_prop==old_prop:\n",
    "            self.counter+=1\n",
    "            if self.counter>self.count_max: # If the counter reaches the maximum value, stop\n",
    "                self.stop = True    \n",
    "        else:\n",
    "            self.counter=0\n",
    "        # If we reach the maximum number of time steps, stop the process\n",
    "        if time>t_max:\n",
    "                self.stop = True\n",
    "                print(\"Maximum time reached\")\n",
    "        return true_prop\n",
    "    \n",
    "    def run(self,display_step = 1, prop = 0.0001, t_max = 1000, count_max = 10):\n",
    "        \"\"\"\n",
    "        Dynamics evolution\n",
    "        Args:\n",
    "            display_step (int): Number of iterations to wait until displaying the current result\n",
    "            prop (float): Maximal proportion of changed states to stop the dynamics\n",
    "            t_max (float): Maximum number of iterations\n",
    "            count_max (int): Maximum value of the counter before stoping the dynamical evolution\n",
    "        Return:\n",
    "            G (networkX digraph): Graph containig the states\n",
    "        \"\"\"\n",
    "        time = 0\n",
    "        true_prop = 0\n",
    "        self.count_max = count_max\n",
    "        while not self.stop:\n",
    "            new_G = self.G.copy()\n",
    "            for i in self.G.nodes:\n",
    "                self.update(i, new_G)\n",
    "            self.G = new_G.copy()\n",
    "            true_prop = self.stopping(prop, true_prop, time, t_max)\n",
    "            time+=1\n",
    "            if time%display_step==0:\n",
    "                print(\"Time: \", time, \"Proportion of changing states: \", true_prop)\n",
    "            \n",
    "        print(\"Dynamics finished at time \", time, \" with proportion of changing states \", true_prop)\n",
    "        return self.G\n",
    "    \n",
    "            "
   ]
  },
  {
   "cell_type": "code",
   "execution_count": 114,
   "metadata": {},
   "outputs": [
    {
     "name": "stdout",
     "output_type": "stream",
     "text": [
      "Proportion of 1ns  0.4878048780487805\n"
     ]
    }
   ],
   "source": [
    "Boolean = Boolean_Dynamics(G)"
   ]
  },
  {
   "cell_type": "code",
   "execution_count": 115,
   "metadata": {},
   "outputs": [
    {
     "name": "stdout",
     "output_type": "stream",
     "text": [
      "Time:  1 Proportion of changing states:  0.4975609756097561\n",
      "Time:  2 Proportion of changing states:  0.48292682926829267\n",
      "Time:  3 Proportion of changing states:  0.6195121951219512\n",
      "Time:  4 Proportion of changing states:  0.5934959349593496\n",
      "Time:  5 Proportion of changing states:  0.5983739837398374\n",
      "Time:  6 Proportion of changing states:  0.6943089430894309\n",
      "Time:  7 Proportion of changing states:  0.7300813008130081\n",
      "Time:  8 Proportion of changing states:  0.7284552845528456\n",
      "Time:  9 Proportion of changing states:  0.7284552845528456\n",
      "Time:  10 Proportion of changing states:  0.7284552845528456\n",
      "Time:  11 Proportion of changing states:  0.7284552845528456\n",
      "Time:  12 Proportion of changing states:  0.7284552845528456\n",
      "Time:  13 Proportion of changing states:  0.7284552845528456\n",
      "Time:  14 Proportion of changing states:  0.7284552845528456\n",
      "Time:  15 Proportion of changing states:  0.7284552845528456\n",
      "Time:  16 Proportion of changing states:  0.7284552845528456\n",
      "Time:  17 Proportion of changing states:  0.7284552845528456\n",
      "Time:  18 Proportion of changing states:  0.7284552845528456\n",
      "Time:  19 Proportion of changing states:  0.7284552845528456\n",
      "Dynamics finished at time  19  with proportion of changing states  0.7284552845528456\n"
     ]
    }
   ],
   "source": [
    "G_dyn = Boolean.run()"
   ]
  },
  {
   "cell_type": "code",
   "execution_count": 116,
   "metadata": {},
   "outputs": [],
   "source": [
    "final_states = np.array([G_dyn.nodes[node]['state'] for node in G_dyn.nodes])"
   ]
  },
  {
   "cell_type": "code",
   "execution_count": 117,
   "metadata": {},
   "outputs": [
    {
     "data": {
      "text/plain": [
       "0.6130081300813008"
      ]
     },
     "execution_count": 117,
     "metadata": {},
     "output_type": "execute_result"
    }
   ],
   "source": [
    "np.mean(final_states)"
   ]
  },
  {
   "cell_type": "code",
   "execution_count": null,
   "metadata": {},
   "outputs": [],
   "source": []
  },
  {
   "cell_type": "code",
   "execution_count": null,
   "metadata": {},
   "outputs": [],
   "source": []
  }
 ],
 "metadata": {
  "kernelspec": {
   "display_name": "Python (CN)",
   "language": "python",
   "name": "cn"
  },
  "language_info": {
   "codemirror_mode": {
    "name": "ipython",
    "version": 3
   },
   "file_extension": ".py",
   "mimetype": "text/x-python",
   "name": "python",
   "nbconvert_exporter": "python",
   "pygments_lexer": "ipython3",
   "version": "3.8.1"
  }
 },
 "nbformat": 4,
 "nbformat_minor": 2
}
