{
 "cells": [
  {
   "cell_type": "markdown",
   "metadata": {},
   "source": [
    "# Human proteins Network\n",
    "\n"
   ]
  },
  {
   "cell_type": "code",
   "execution_count": 1,
   "metadata": {},
   "outputs": [],
   "source": [
    "import csv\n",
    "import scipy \n",
    "from scipy import sparse\n",
    "import scipy.sparse.linalg\n",
    "import numpy as np\n",
    "import matplotlib.pyplot as plt"
   ]
  },
  {
   "cell_type": "markdown",
   "metadata": {},
   "source": [
    "The following lines of code are used to import the adjacency matrix of the human proteins network. \n",
    "Then, a scipy sparse matrix is created to store such matrix."
   ]
  },
  {
   "cell_type": "markdown",
   "metadata": {},
   "source": [
    "### Import Adjacency matrix"
   ]
  },
  {
   "cell_type": "code",
   "execution_count": 3,
   "metadata": {},
   "outputs": [],
   "source": [
    "class Network():\n",
    "    \n",
    "    def __init__(self,filename):\n",
    "        self.filename = filename\n",
    "        self.import_Network()\n",
    "        \n",
    "    def import_Network(self):\n",
    "\n",
    "        list_rows=[]\n",
    "\n",
    "        with open(self.filename) as tsvfile:\n",
    "            reader = csv.DictReader(tsvfile, dialect='excel-tab')\n",
    "            for row in reader:\n",
    "                s = row['% asym unweighted'].split()\n",
    "                list_rows.append(list(map(int, s)) )\n",
    "    \n",
    "        vals = np.array(list_rows)\n",
    "\n",
    "        self.row = vals[:,0]\n",
    "        self.col = vals[:,1]\n",
    "        self.data = np.ones(vals.shape[0])\n",
    "        self.num_vertices = int(np.max(self.col))+1\n",
    "        self.num_edges = int(np.sum(self.data))\n",
    "        \n",
    "        \n",
    "        self.adjacency = scipy.sparse.csr_matrix( (self.data, (self.row,self.col)), \n",
    "                                                 shape = (self.num_vertices,self.num_vertices))\n",
    "        self.set_laplacian_matrix()\n",
    "        \n",
    "        \n",
    "    def set_laplacian_matrix(self):\n",
    "        out_degree = self.get_outdegree()\n",
    "        \n",
    "        self.laplacian = scipy.sparse.lil_matrix((self.num_vertices,self.num_vertices))\n",
    "        self.laplacian.setdiag(np.array(out_degree).flatten())\n",
    "        self.laplacian = self.laplacian - scipy.sparse.lil_matrix(self.adjacency)\n",
    "        self.laplacian = scipy.sparse.csr_matrix(self.laplacian)        \n",
    "        \n",
    "        \n",
    "    def get_indegree(self):\n",
    "        degs = self.adjacency.sum(axis = 0)\n",
    "        return degs.flatten()\n",
    "    \n",
    "    def get_outdegree(self):\n",
    "        degs = self.adjacency.sum(axis = 1)\n",
    "        return degs.flatten()\n",
    "    \n",
    "\n",
    "net = Network('out.maayan-figeys')\n"
   ]
  },
  {
   "cell_type": "markdown",
   "metadata": {},
   "source": [
    "## NetworkX\n",
    "\n",
    "We can also define the graph using the NetworkX package."
   ]
  },
  {
   "cell_type": "code",
   "execution_count": 4,
   "metadata": {},
   "outputs": [],
   "source": [
    "import networkx as nx"
   ]
  },
  {
   "cell_type": "code",
   "execution_count": 5,
   "metadata": {},
   "outputs": [],
   "source": [
    "G = nx.from_scipy_sparse_matrix(net.adjacency, create_using = nx.DiGraph())"
   ]
  },
  {
   "cell_type": "markdown",
   "metadata": {},
   "source": [
    "# Macroscale properties\n",
    "\n",
    "**13/03/2020** \n",
    "\n",
    "\n",
    "## 1. Shortest paths\n",
    "\n",
    "In the former notebook, we evaluated the centrality of the nodes, using different measures. Now, we will evaluate the *global* centrality of the network. We will calculate different global properties of the network:\n",
    "\n",
    "### Mean shortest paths\n",
    "The average shortest path length is\n",
    "\n",
    "$$\n",
    "a = \\sum_{s,t \\in V} \\frac{d(s,t)}{n(n-1)}\n",
    "$$\n",
    "\n",
    "where $V$ is the set of nodes in $G$, $d(s,t)$ is the shortest path from $s$ to $t$ and $n$ is the number of nodes in the graph."
   ]
  },
  {
   "cell_type": "code",
   "execution_count": 6,
   "metadata": {},
   "outputs": [
    {
     "ename": "NetworkXError",
     "evalue": "Graph is not weakly connected.",
     "output_type": "error",
     "traceback": [
      "\u001b[0;31m---------------------------------------------------------------------------\u001b[0m",
      "\u001b[0;31mNetworkXError\u001b[0m                             Traceback (most recent call last)",
      "\u001b[0;32m<ipython-input-6-033aa892eae1>\u001b[0m in \u001b[0;36m<module>\u001b[0;34m\u001b[0m\n\u001b[0;32m----> 1\u001b[0;31m \u001b[0mnx\u001b[0m\u001b[0;34m.\u001b[0m\u001b[0maverage_shortest_path_length\u001b[0m\u001b[0;34m(\u001b[0m\u001b[0mG\u001b[0m\u001b[0;34m)\u001b[0m\u001b[0;34m\u001b[0m\u001b[0;34m\u001b[0m\u001b[0m\n\u001b[0m",
      "\u001b[0;32m~/anaconda3/envs/CN/lib/python3.8/site-packages/networkx/algorithms/shortest_paths/generic.py\u001b[0m in \u001b[0;36maverage_shortest_path_length\u001b[0;34m(G, weight, method)\u001b[0m\n\u001b[1;32m    401\u001b[0m     \u001b[0;31m# Shortest path length is undefined if the graph is disconnected.\u001b[0m\u001b[0;34m\u001b[0m\u001b[0;34m\u001b[0m\u001b[0;34m\u001b[0m\u001b[0m\n\u001b[1;32m    402\u001b[0m     \u001b[0;32mif\u001b[0m \u001b[0mG\u001b[0m\u001b[0;34m.\u001b[0m\u001b[0mis_directed\u001b[0m\u001b[0;34m(\u001b[0m\u001b[0;34m)\u001b[0m \u001b[0;32mand\u001b[0m \u001b[0;32mnot\u001b[0m \u001b[0mnx\u001b[0m\u001b[0;34m.\u001b[0m\u001b[0mis_weakly_connected\u001b[0m\u001b[0;34m(\u001b[0m\u001b[0mG\u001b[0m\u001b[0;34m)\u001b[0m\u001b[0;34m:\u001b[0m\u001b[0;34m\u001b[0m\u001b[0;34m\u001b[0m\u001b[0m\n\u001b[0;32m--> 403\u001b[0;31m         \u001b[0;32mraise\u001b[0m \u001b[0mnx\u001b[0m\u001b[0;34m.\u001b[0m\u001b[0mNetworkXError\u001b[0m\u001b[0;34m(\u001b[0m\u001b[0;34m\"Graph is not weakly connected.\"\u001b[0m\u001b[0;34m)\u001b[0m\u001b[0;34m\u001b[0m\u001b[0;34m\u001b[0m\u001b[0m\n\u001b[0m\u001b[1;32m    404\u001b[0m     \u001b[0;32mif\u001b[0m \u001b[0;32mnot\u001b[0m \u001b[0mG\u001b[0m\u001b[0;34m.\u001b[0m\u001b[0mis_directed\u001b[0m\u001b[0;34m(\u001b[0m\u001b[0;34m)\u001b[0m \u001b[0;32mand\u001b[0m \u001b[0;32mnot\u001b[0m \u001b[0mnx\u001b[0m\u001b[0;34m.\u001b[0m\u001b[0mis_connected\u001b[0m\u001b[0;34m(\u001b[0m\u001b[0mG\u001b[0m\u001b[0;34m)\u001b[0m\u001b[0;34m:\u001b[0m\u001b[0;34m\u001b[0m\u001b[0;34m\u001b[0m\u001b[0m\n\u001b[1;32m    405\u001b[0m         \u001b[0;32mraise\u001b[0m \u001b[0mnx\u001b[0m\u001b[0;34m.\u001b[0m\u001b[0mNetworkXError\u001b[0m\u001b[0;34m(\u001b[0m\u001b[0;34m\"Graph is not connected.\"\u001b[0m\u001b[0;34m)\u001b[0m\u001b[0;34m\u001b[0m\u001b[0;34m\u001b[0m\u001b[0m\n",
      "\u001b[0;31mNetworkXError\u001b[0m: Graph is not weakly connected."
     ]
    }
   ],
   "source": [
    "nx.average_shortest_path_length(G)"
   ]
  },
  {
   "cell_type": "markdown",
   "metadata": {},
   "source": [
    "We get an error because the graph is not weakly connected (there are disconnected components)."
   ]
  },
  {
   "cell_type": "code",
   "execution_count": 7,
   "metadata": {},
   "outputs": [
    {
     "name": "stdout",
     "output_type": "stream",
     "text": [
      "Is the graph weakly connected? False\n",
      "Number of connected components in G:  10\n",
      "length of connected components [2217, 4, 3, 3, 3, 3, 2, 2, 2, 1]\n"
     ]
    }
   ],
   "source": [
    "print('Is the graph weakly connected?', nx.is_weakly_connected(G))\n",
    "\n",
    "print('Number of connected components in G: ', nx.number_weakly_connected_components(G))\n",
    "\n",
    "print('length of connected components', [len(c) for c in sorted(nx.weakly_connected_components(G), key=len, reverse=True)])"
   ]
  },
  {
   "cell_type": "markdown",
   "metadata": {},
   "source": [
    "We can see that there is one large connected component (of 2217 vertices) and many very small connected components (of 1-4 vertices). We will now get the subgraph of the largest connected component and work with it."
   ]
  },
  {
   "cell_type": "code",
   "execution_count": 8,
   "metadata": {},
   "outputs": [],
   "source": [
    "largest_cc = max(nx.weakly_connected_components(G), key=len)\n",
    "G_con = G.subgraph(largest_cc)"
   ]
  },
  {
   "cell_type": "markdown",
   "metadata": {},
   "source": [
    "Now we can calculate the mean shortest path length"
   ]
  },
  {
   "cell_type": "code",
   "execution_count": 9,
   "metadata": {},
   "outputs": [
    {
     "name": "stdout",
     "output_type": "stream",
     "text": [
      "Mean shortest path lenght:  0.018096339574896314\n"
     ]
    }
   ],
   "source": [
    "print('Mean shortest path lenght: ', nx.average_shortest_path_length(G_con))"
   ]
  },
  {
   "cell_type": "markdown",
   "metadata": {},
   "source": [
    "### Eccentricity\n",
    "\n",
    "The eccentricity of a node v is the maximum distance from v to all other nodes in G. It is a *local* property of the nodes, that will be used to calculate ther global properties such as the diameter of the graph.\n",
    "\n",
    "We draw the graph with the size of the nodes being its eccentricity."
   ]
  },
  {
   "cell_type": "code",
   "execution_count": 10,
   "metadata": {},
   "outputs": [
    {
     "ename": "NetworkXError",
     "evalue": "Found infinite path length because the digraph is not strongly connected",
     "output_type": "error",
     "traceback": [
      "\u001b[0;31m---------------------------------------------------------------------------\u001b[0m",
      "\u001b[0;31mNetworkXError\u001b[0m                             Traceback (most recent call last)",
      "\u001b[0;32m<ipython-input-10-ec25445ffa47>\u001b[0m in \u001b[0;36m<module>\u001b[0;34m\u001b[0m\n\u001b[0;32m----> 1\u001b[0;31m \u001b[0mecc\u001b[0m \u001b[0;34m=\u001b[0m \u001b[0mnx\u001b[0m\u001b[0;34m.\u001b[0m\u001b[0meccentricity\u001b[0m\u001b[0;34m(\u001b[0m\u001b[0mG_con\u001b[0m\u001b[0;34m)\u001b[0m\u001b[0;34m\u001b[0m\u001b[0;34m\u001b[0m\u001b[0m\n\u001b[0m",
      "\u001b[0;32m~/anaconda3/envs/CN/lib/python3.8/site-packages/networkx/algorithms/distance_measures.py\u001b[0m in \u001b[0;36meccentricity\u001b[0;34m(G, v, sp)\u001b[0m\n\u001b[1;32m    244\u001b[0m                 msg = ('Found infinite path length because the graph is not'\n\u001b[1;32m    245\u001b[0m                        ' connected')\n\u001b[0;32m--> 246\u001b[0;31m             \u001b[0;32mraise\u001b[0m \u001b[0mnx\u001b[0m\u001b[0;34m.\u001b[0m\u001b[0mNetworkXError\u001b[0m\u001b[0;34m(\u001b[0m\u001b[0mmsg\u001b[0m\u001b[0;34m)\u001b[0m\u001b[0;34m\u001b[0m\u001b[0;34m\u001b[0m\u001b[0m\n\u001b[0m\u001b[1;32m    247\u001b[0m \u001b[0;34m\u001b[0m\u001b[0m\n\u001b[1;32m    248\u001b[0m         \u001b[0me\u001b[0m\u001b[0;34m[\u001b[0m\u001b[0mn\u001b[0m\u001b[0;34m]\u001b[0m \u001b[0;34m=\u001b[0m \u001b[0mmax\u001b[0m\u001b[0;34m(\u001b[0m\u001b[0mlength\u001b[0m\u001b[0;34m.\u001b[0m\u001b[0mvalues\u001b[0m\u001b[0;34m(\u001b[0m\u001b[0;34m)\u001b[0m\u001b[0;34m)\u001b[0m\u001b[0;34m\u001b[0m\u001b[0;34m\u001b[0m\u001b[0m\n",
      "\u001b[0;31mNetworkXError\u001b[0m: Found infinite path length because the digraph is not strongly connected"
     ]
    }
   ],
   "source": [
    "ecc = nx.eccentricity(G_con)"
   ]
  },
  {
   "cell_type": "markdown",
   "metadata": {},
   "source": [
    "Again, we get errors because the graph is only weakly connected but not strongly connected. "
   ]
  },
  {
   "cell_type": "code",
   "execution_count": 11,
   "metadata": {},
   "outputs": [],
   "source": [
    "largest_cc = max(nx.strongly_connected_components(G), key=len)\n",
    "G_Scon = G.subgraph(largest_cc)"
   ]
  },
  {
   "cell_type": "code",
   "execution_count": 12,
   "metadata": {},
   "outputs": [
    {
     "data": {
      "image/png": "[encoded data removed]",
      "text/plain": [
       "<Figure size 432x288 with 1 Axes>"
      ]
     },
     "metadata": {},
     "output_type": "display_data"
    }
   ],
   "source": [
    "ecc = nx.eccentricity(G_Scon)\n",
    "\n",
    "nx.draw_networkx(G_Scon,pos = nx.spring_layout(G_Scon), with_labels=False, node_size=[v*150 for v in ecc.values()])\n",
    "plt.show()"
   ]
  },
  {
   "cell_type": "markdown",
   "metadata": {},
   "source": [
    "We have plotted the largest strongly connected component, and all the eccentricity vales are of similar size. However, we note that the number of nodes is very very small compared to the total number of nodes."
   ]
  },
  {
   "cell_type": "markdown",
   "metadata": {},
   "source": [
    "### Radius\n",
    "\n",
    "The radius is the minimum eccentricity."
   ]
  },
  {
   "cell_type": "code",
   "execution_count": 13,
   "metadata": {},
   "outputs": [
    {
     "name": "stdout",
     "output_type": "stream",
     "text": [
      "Radius:  3\n"
     ]
    }
   ],
   "source": [
    "print('Radius: ', nx.radius(G_Scon))"
   ]
  },
  {
   "cell_type": "markdown",
   "metadata": {},
   "source": [
    "### Center\n",
    "\n",
    "The center is the set of nodes with eccentricity equal to radius."
   ]
  },
  {
   "cell_type": "code",
   "execution_count": 14,
   "metadata": {},
   "outputs": [
    {
     "name": "stdout",
     "output_type": "stream",
     "text": [
      "The largest strongly connected component has center:  48\n"
     ]
    }
   ],
   "source": [
    "print('The largest strongly connected component has center: ', nx.center(G_Scon)[0])"
   ]
  },
  {
   "cell_type": "markdown",
   "metadata": {},
   "source": [
    "### Diameter\n",
    "\n",
    "The diameter is the maximum eccentricity.\n"
   ]
  },
  {
   "cell_type": "code",
   "execution_count": 15,
   "metadata": {},
   "outputs": [
    {
     "name": "stdout",
     "output_type": "stream",
     "text": [
      "The largest strongly connected component has diameter:  5\n"
     ]
    }
   ],
   "source": [
    "print('The largest strongly connected component has diameter: ', nx.diameter(G_Scon))"
   ]
  },
  {
   "cell_type": "markdown",
   "metadata": {},
   "source": [
    "### Periphery\n",
    "\n",
    "The periphery is the set of nodes with eccentricity equal to the diameter."
   ]
  },
  {
   "cell_type": "code",
   "execution_count": 16,
   "metadata": {},
   "outputs": [
    {
     "name": "stdout",
     "output_type": "stream",
     "text": [
      "Peripherial nodes:  [227, 296, 145, 538]\n"
     ]
    }
   ],
   "source": [
    "print('Peripherial nodes: ', nx.periphery(G_Scon))"
   ]
  },
  {
   "cell_type": "markdown",
   "metadata": {},
   "source": [
    "### Barycenter\n",
    "\n",
    "The barycenter of a connected graph G is the subgraph induced by the set of nodes $v$ minimizing the objective function\n",
    "\n",
    "$$\n",
    "\\sum_{u \\in V(G)} d(u,v),\n",
    "$$\n",
    "where $V(G)$ is the set of nodes of the graph $G$."
   ]
  },
  {
   "cell_type": "code",
   "execution_count": 17,
   "metadata": {},
   "outputs": [
    {
     "name": "stdout",
     "output_type": "stream",
     "text": [
      "The largest strongly connected component has barycenter:  48\n"
     ]
    }
   ],
   "source": [
    "print('The largest strongly connected component has barycenter: ',nx.barycenter(G_Scon)[0])"
   ]
  },
  {
   "cell_type": "markdown",
   "metadata": {},
   "source": [
    "Notice that, in this case, the barycenter is a subgraph of $G$ consisting on a single node, which is the 48 one. "
   ]
  },
  {
   "cell_type": "markdown",
   "metadata": {},
   "source": [
    "## 2. Clustering\n",
    "\n",
    "Now we will look at clustering properties of the network.\n",
    "\n",
    "Remember the definition of the clustering coefficient of a node:\n",
    "\n",
    "### Clustering coefficient of a node\n",
    "\n",
    "$$\n",
    "C_i = \\frac{2\\cdot E_i}{k_i(k_i-1)}\n",
    "$$\n",
    "\n",
    "where $E_i$ is the number of triangles of node $i$, and $k_i(k_i-1)$ represents the total number of triangles that the node could possibly have, being $k_i$ the node's degree. \n",
    "\n",
    "With this deffinition we can define the *global* clustering coefficient of the network.\n",
    "\n",
    "### Clustering of the network\n",
    "\n",
    "$$\n",
    "C = \\frac{1}{N} \\sum_{i=1}^N C_i,\n",
    "$$\n",
    "where $N$ is the total number of nodes of the graph. Notice that it is the average clustering coefficient of all nodes."
   ]
  },
  {
   "cell_type": "code",
   "execution_count": 18,
   "metadata": {},
   "outputs": [
    {
     "name": "stdout",
     "output_type": "stream",
     "text": [
      "Average clustering coefficient: 0.022991199720053465\n"
     ]
    }
   ],
   "source": [
    "print('Average clustering coefficient:', nx.average_clustering(G))"
   ]
  },
  {
   "cell_type": "markdown",
   "metadata": {},
   "source": [
    "We can also inspect the clustering coefficient of a node as a function of the degree of such nodes."
   ]
  },
  {
   "cell_type": "code",
   "execution_count": 19,
   "metadata": {},
   "outputs": [],
   "source": [
    "clus = nx.clustering(G)\n",
    "deg = dict(G.degree())"
   ]
  },
  {
   "cell_type": "code",
   "execution_count": 20,
   "metadata": {},
   "outputs": [],
   "source": [
    "idx = np.argsort(list(deg.values()))\n",
    "\n",
    "deg_vals = np.array(list(deg.values()))[idx]\n",
    "clus_vals = np.array(list(clus.values()))[idx]"
   ]
  },
  {
   "cell_type": "code",
   "execution_count": 21,
   "metadata": {},
   "outputs": [
    {
     "data": {
      "image/png": "[encoded data removed]",
      "text/plain": [
       "<Figure size 432x288 with 1 Axes>"
      ]
     },
     "metadata": {
      "needs_background": "light"
     },
     "output_type": "display_data"
    }
   ],
   "source": [
    "plt.plot(deg_vals, clus_vals, 'o')\n",
    "plt.xscale('log')\n",
    "plt.yscale('log')\n",
    "plt.title(\"Clustering coefficients\")\n",
    "plt.xlabel('out degree')\n",
    "plt.ylabel('clustering')\n",
    "plt.show()"
   ]
  },
  {
   "cell_type": "markdown",
   "metadata": {},
   "source": [
    "We observe some descreasing tendency. This happens because as the number of connection increases, it becomes more unlikely that the neighbours of a node are also connected. For this reason, we expect the clustering coefficient to decrease with the degree of the node. \n",
    "\n",
    "Now we will perform a linear fil to observe this trend"
   ]
  },
  {
   "cell_type": "code",
   "execution_count": 22,
   "metadata": {},
   "outputs": [
    {
     "name": "stdout",
     "output_type": "stream",
     "text": [
      "Slope of linear fit:  -1.4185448157733733\n"
     ]
    }
   ],
   "source": [
    "idx = clus_vals*deg_vals>0\n",
    "coef = np.polyfit(np.log10(deg_vals[idx]),np.log10(clus_vals[idx]),1)\n",
    "poly1d_fn = np.poly1d(coef) \n",
    "\n",
    "print('Slope of linear fit: ', coef[0])"
   ]
  },
  {
   "cell_type": "code",
   "execution_count": 23,
   "metadata": {},
   "outputs": [
    {
     "data": {
      "image/png": "[encoded data removed]",
      "text/plain": [
       "<Figure size 432x288 with 1 Axes>"
      ]
     },
     "metadata": {
      "needs_background": "light"
     },
     "output_type": "display_data"
    }
   ],
   "source": [
    "plt.plot(deg_vals, clus_vals, 'o')\n",
    "plt.plot(deg_vals[idx], np.power(10,poly1d_fn(np.log10(deg_vals[idx]))), '--k')\n",
    "plt.xscale('log')\n",
    "plt.yscale('log')\n",
    "plt.title(\"Clustering coefficients\")\n",
    "plt.xlabel('out degree')\n",
    "plt.ylabel('cliustering')\n",
    "plt.show()"
   ]
  },
  {
   "cell_type": "markdown",
   "metadata": {},
   "source": [
    "We observe that the slope of the linear fit is approximately -1.4."
   ]
  },
  {
   "cell_type": "markdown",
   "metadata": {},
   "source": [
    "### Newman Clustering Coefficient\n",
    "\n",
    "\n",
    "It is also known as the transitivity index of the network. It is the fraction of all possible triangles present in G. Possible triangles are identified by the number of “triads” (two edges with a shared vertex)."
   ]
  },
  {
   "cell_type": "code",
   "execution_count": 24,
   "metadata": {},
   "outputs": [
    {
     "name": "stdout",
     "output_type": "stream",
     "text": [
      "The Newman clustering coefficient is:  0.0015705864234240004\n"
     ]
    }
   ],
   "source": [
    "print('The Newman clustering coefficient is: ', nx.transitivity(G))"
   ]
  },
  {
   "cell_type": "markdown",
   "metadata": {},
   "source": [
    "We observe that it is smaller than the clustering coefficient, but of the same order. The clustering coefficient quantifies how clustered is the network locally, while the Newman clustering coefficient quantifies how clustered is the network as a whole."
   ]
  },
  {
   "cell_type": "markdown",
   "metadata": {},
   "source": [
    "## 3. Degree Distribution\n",
    "\n",
    "We will compute $P(k)$, that is, the probability that a randomly selected node has degree $k$. It is a measure in the spread the number of links the nodes have. "
   ]
  },
  {
   "cell_type": "code",
   "execution_count": 25,
   "metadata": {},
   "outputs": [],
   "source": [
    "degree_sequence = sorted([d for n, d in G.degree()], reverse=True) "
   ]
  },
  {
   "cell_type": "code",
   "execution_count": 26,
   "metadata": {},
   "outputs": [
    {
     "data": {
      "image/png": "[encoded data removed]",
      "text/plain": [
       "<Figure size 432x288 with 1 Axes>"
      ]
     },
     "metadata": {
      "needs_background": "light"
     },
     "output_type": "display_data"
    }
   ],
   "source": [
    "plt.hist(degree_sequence, bins=50, density=True, range=(0,50))\n",
    "plt.title(\"Degree distribution\")\n",
    "plt.xlabel('out degree')\n",
    "plt.ylabel('count')\n",
    "plt.show()"
   ]
  },
  {
   "cell_type": "markdown",
   "metadata": {},
   "source": [
    "We can see that with this histogram it is very hard to see the actual distribution of $P(k)$.\n",
    "\n",
    "We observe that there are a lot of nodes with zero degree, and then the number decreases to zero. \n",
    "\n",
    "We want to see if the decrease to zero is exponential or if it follows a power low.\n",
    "\n",
    "First of all, we plot the same histogram using a log-log scale."
   ]
  },
  {
   "cell_type": "code",
   "execution_count": 27,
   "metadata": {},
   "outputs": [
    {
     "data": {
      "image/png": "[encoded data removed]",
      "text/plain": [
       "<Figure size 432x288 with 1 Axes>"
      ]
     },
     "metadata": {
      "needs_background": "light"
     },
     "output_type": "display_data"
    }
   ],
   "source": [
    "hist = plt.hist(degree_sequence, bins=50, density=True, range=(0,50))\n",
    "plt.xscale('log')\n",
    "plt.yscale('log')\n",
    "plt.title(\"Degree distribution\")\n",
    "plt.xlabel('out degree')\n",
    "plt.ylabel('count')\n",
    "plt.show()"
   ]
  },
  {
   "cell_type": "markdown",
   "metadata": {},
   "source": [
    "We observe that the decrease resembles a power low.\n",
    "\n",
    "In order to see it better, we plot the degree distribution with points instead of a histogram"
   ]
  },
  {
   "cell_type": "code",
   "execution_count": 28,
   "metadata": {},
   "outputs": [
    {
     "data": {
      "image/png": "[encoded data removed]",
      "text/plain": [
       "<Figure size 432x288 with 1 Axes>"
      ]
     },
     "metadata": {
      "needs_background": "light"
     },
     "output_type": "display_data"
    }
   ],
   "source": [
    "plt.plot(hist[1][1:],hist[0], 'o')\n",
    "plt.xscale('log')\n",
    "plt.yscale('log')\n",
    "plt.title(\"Degree distribution\")\n",
    "plt.xlabel('out degree')\n",
    "plt.ylabel('count')\n",
    "plt.show()"
   ]
  },
  {
   "cell_type": "markdown",
   "metadata": {},
   "source": [
    "We observe that more or less until degree 11, the distribution decays following a power low. For degrees larger than 11, there are very few nodes with such large degree, and therefore the probabilty of having such degree stabilizes. Now we will perform a linear fit of the first part of the plot."
   ]
  },
  {
   "cell_type": "code",
   "execution_count": 32,
   "metadata": {},
   "outputs": [
    {
     "name": "stdout",
     "output_type": "stream",
     "text": [
      "Slope of linear fit:  -2.422838637957744\n"
     ]
    }
   ],
   "source": [
    "coef = np.polyfit(np.log10(hist[1][2:26]),np.log10(hist[0][1:25]),1)\n",
    "poly1d_fn = np.poly1d(coef) \n",
    "\n",
    "print('Slope of linear fit: ', coef[0])"
   ]
  },
  {
   "cell_type": "code",
   "execution_count": 33,
   "metadata": {},
   "outputs": [
    {
     "data": {
      "image/png": "[encoded data removed]",
      "text/plain": [
       "<Figure size 432x288 with 1 Axes>"
      ]
     },
     "metadata": {
      "needs_background": "light"
     },
     "output_type": "display_data"
    }
   ],
   "source": [
    "plt.plot(hist[1][1:],hist[0], 'o')\n",
    "plt.plot(hist[1][2:25], np.power(10,poly1d_fn(np.log10(hist[1][2:25]))), '--k')\n",
    "plt.xscale('log')\n",
    "plt.yscale('log')\n",
    "plt.title(\"Degree distribution\")\n",
    "plt.xlabel('out degree')\n",
    "plt.ylabel('count')\n",
    "plt.show()"
   ]
  },
  {
   "cell_type": "markdown",
   "metadata": {},
   "source": [
    "The slope of the linear fit if of around -2.3.\n",
    "\n",
    "Another way to calculate $\\gamma$ is by looking at the cumulative distribution function (cdf) of the degree, instead of the density distribution. The cdf is more stable in the sense that it preserves better the power low behaviour for large degrees. Therefore, it may be easier to estimate $\\gamma$ using the cdf. We will compare the value of $\\gamma$ using both methods.  \n",
    "\n",
    "\n",
    "Cumulative distribution function of $P(k)$:"
   ]
  },
  {
   "cell_type": "code",
   "execution_count": 34,
   "metadata": {},
   "outputs": [
    {
     "data": {
      "image/png": "[encoded data removed]",
      "text/plain": [
       "<Figure size 432x288 with 1 Axes>"
      ]
     },
     "metadata": {
      "needs_background": "light"
     },
     "output_type": "display_data"
    }
   ],
   "source": [
    "hist_cum = plt.hist(degree_sequence, bins=50, density=True, linewidth=2, \n",
    "         histtype='step', cumulative=True, range=(0,50))\n",
    "plt.title(\"Cumulative Degree distribution\")\n",
    "plt.xlabel('out degree')\n",
    "plt.ylabel('count')\n",
    "plt.show()"
   ]
  },
  {
   "cell_type": "markdown",
   "metadata": {},
   "source": [
    "In log-log scale:"
   ]
  },
  {
   "cell_type": "code",
   "execution_count": 35,
   "metadata": {},
   "outputs": [
    {
     "data": {
      "image/png": "[encoded data removed]",
      "text/plain": [
       "<Figure size 432x288 with 1 Axes>"
      ]
     },
     "metadata": {
      "needs_background": "light"
     },
     "output_type": "display_data"
    }
   ],
   "source": [
    "plt.plot(hist_cum[1][1:],hist_cum[0], 'o')\n",
    "plt.xscale('log')\n",
    "plt.yscale('log')\n",
    "plt.title(\"Cumulative Degree distribution\")\n",
    "plt.xlabel('out degree')\n",
    "plt.ylabel('count')\n",
    "plt.show()"
   ]
  },
  {
   "cell_type": "markdown",
   "metadata": {},
   "source": [
    "If we model this behaviour as a power law, we know that the cdf is:\n",
    "\n",
    "$$\n",
    "F(k) = 1 - k^{- \\gamma + 1}\n",
    "$$\n",
    "\n",
    "Knowing this, we calculate the power scale $\\gamma$ and compare it with the one we saw before."
   ]
  },
  {
   "cell_type": "code",
   "execution_count": 36,
   "metadata": {},
   "outputs": [
    {
     "name": "stdout",
     "output_type": "stream",
     "text": [
      "Slope of linear fit:  -2.381011850829909\n"
     ]
    }
   ],
   "source": [
    "coef = np.polyfit(np.log10(hist_cum[1][1:26]),np.log10(1-hist_cum[0][:25]),1)\n",
    "poly1d_fn = np.poly1d(coef) \n",
    "\n",
    "print('Slope of linear fit: ', coef[0] -1 )"
   ]
  },
  {
   "cell_type": "code",
   "execution_count": 37,
   "metadata": {},
   "outputs": [
    {
     "data": {
      "image/png": "[encoded data removed]",
      "text/plain": [
       "<Figure size 432x288 with 1 Axes>"
      ]
     },
     "metadata": {
      "needs_background": "light"
     },
     "output_type": "display_data"
    }
   ],
   "source": [
    "plt.plot(hist_cum[1][2:],1 - hist_cum[0][:-1], 'o')\n",
    "plt.plot(hist_cum[1][1:26], np.power(10,poly1d_fn(np.log(hist_cum[1][1:26]))), '--k')\n",
    "plt.xscale('log')\n",
    "plt.yscale('log')\n",
    "plt.title(\"Degree distribution\")\n",
    "plt.xlabel('out degree')\n",
    "plt.ylabel('count')\n",
    "plt.show()"
   ]
  },
  {
   "cell_type": "markdown",
   "metadata": {},
   "source": [
    "With this method we also obtain a slope degree of around -2.3. We conclude that the network degree follows a power law probability distribution. "
   ]
  },
  {
   "cell_type": "markdown",
   "metadata": {},
   "source": [
    "## 4. Robustness\n",
    "\n",
    "Let us begin by defining some notation by following the paper \"Attack Robustness and Centrality of Complex Networks\" that was introduced on the slides. Let $G$ be a graph and $N$ the total number of nodes. Let $N_\\rho$ be the network that results from removing a fraction $\\rho$ of the vertices according to some specified procedure. We will denote by $N_\\rho '$ the largest component of $N_\\rho$. Then, we define\n",
    "$$\n",
    "\\sigma(\\rho) = \\frac{|N_\\rho '|}{N},\n",
    "$$\n",
    "where |$N_\\rho '$| is the number of nodes of the network $N_\\rho '$. \n",
    "\n",
    "The robustness of a network may be measured by how $\\sigma(\\rho)$ varies as $\\rho$ increases. In other words, it is measured by how the fractional size of its largest component varies when some fraction of the nodes are removed. The robustness of a network under this type of vertex removal can be quantified by the R-index, which is defined as follows\n",
    "$$\n",
    "R=\\frac{1}{N}\\sum_{i=1}^N\\sigma(i/N).\n",
    "$$\n",
    "Then, we define the V-index, which measures the vulnerability of a network to a given scheme of vertex removal, to be the complementary quantity to R\n",
    "$$\n",
    "V = \\frac{1}{2}-R.\n",
    "$$\n",
    "\n",
    "Notice that, so far, we have been assuming that the vertices are removed according to some specified procedure. The removal methods that we are going to consider are the following:\n",
    "* **degree**: remove vertices according to their degrees, from highest to lowest.\n",
    "* **random**: remove vertices randomly by following a uniform distribution.\n",
    "\n",
    "In addition, we are going to use the centralities studied in the former notebook:\n",
    "* **closeness**: remove vertices according to their values of closeness centrality, from highest to lowest.\n",
    "* **betweenness**: remove vertices according to their values of betweeness centrality, from highest to lowest.\n",
    "* **eigenvector**: remove vertices according to their values of eigenvector centrality, from highest to lowest.\n",
    "* **page-rank**: remove vertices according to their values of page-rank centrality, from highest to lowest.\n",
    "* **katz**: remove vertices according to their values of katz centrality, from highest to lowest.\n",
    "* **clustering**: remove vertices according to their values of average clustering coefficient, from highest to lowest.\n",
    "\n",
    "Let us now plot $\\sigma(\\rho)$ of our network by using the above removal procedures."
   ]
  },
  {
   "cell_type": "code",
   "execution_count": 38,
   "metadata": {},
   "outputs": [
    {
     "data": {
      "image/png": "[encoded data removed]",
      "text/plain": [
       "<Figure size 432x288 with 1 Axes>"
      ]
     },
     "metadata": {
      "needs_background": "light"
     },
     "output_type": "display_data"
    }
   ],
   "source": [
    "def random_nodes(gr):\n",
    "    vals = np.random.permutation(len(gr.nodes))\n",
    "    d = dict()\n",
    "\n",
    "    for i in range(len(vals)):\n",
    "        d[i] = vals[i]\n",
    "    return d\n",
    "\n",
    "\n",
    "removal_procedures = {'random': random_nodes,\n",
    "                      'degree': lambda gr: dict(nx.degree(gr)), \n",
    "                      'closeness': nx.closeness_centrality,\n",
    "                      'betweenness':  nx.betweenness_centrality,\n",
    "                      'eigenvector': nx.eigenvector_centrality, \n",
    "                      'pagerank': nx.pagerank, \n",
    "                      'katz': nx.katz_centrality,\n",
    "                      'clustering': nx.clustering}\n",
    "\n",
    "\n",
    "    \n",
    "ro_list = list(np.linspace(0.0, 1.0, num=50))\n",
    "sigma = []\n",
    "i = 0\n",
    "\n",
    "for procedure in removal_procedures.keys():    \n",
    "    for ro in ro_list:\n",
    "        G_aux = G.copy()\n",
    "        G_aux.remove_nodes_from(list(nx.isolates(G_aux))) #remove nodes that do not have in nor out neighbors\n",
    "        N = G_aux.number_of_nodes() #total number of nodes\n",
    "\n",
    "        #Remove the fraction ro\n",
    "        centrality = removal_procedures[procedure](G_aux)\n",
    "        idx = np.argsort(list(centrality.values()))[::-1][:]\n",
    "        nodes = list(centrality.keys())\n",
    "        nodes_to_remove = [nodes[i] for i in idx][:int(ro*G_aux.number_of_nodes())]\n",
    "        G_aux.remove_nodes_from(list(nodes_to_remove))\n",
    "\n",
    "        #Take the largest component\n",
    "        try: \n",
    "            largest_cc = max(nx.weakly_connected_components(G_aux), key=len)\n",
    "            G_aux = G_aux.subgraph(largest_cc)\n",
    "            #compute sigma\n",
    "            sigma.append(G_aux.number_of_nodes()/N)\n",
    "        except ValueError:\n",
    "            sigma.append(0)\n",
    "        \n",
    "    #plot\n",
    "    plt.plot(ro_list, sigma[i*50:(i+1)*50], label=procedure)\n",
    "    plt.title(\"Robustness\")\n",
    "    plt.xlabel('Removing fraction (rho)')\n",
    "    plt.ylabel('sigma')\n",
    "    i += 1\n",
    "plt.legend()\n",
    "plt.show()"
   ]
  },
  {
   "cell_type": "markdown",
   "metadata": {},
   "source": [
    "We can see that our network is more susceptible to the type of removal that targets the highest degree vertices. Such large-degree vertices (also called *hubs*), are the ones which give structure to the network. We have seen in the previous section that such nodes make the probability distribution of the degree heavy-tailed, so that the decreasing of the degree distribution follows a power law. Therefore, removing those large-degree nodes changes such probabiliy distribution, and therefore the structure of the network.  On the other hand, its highest robustness is achieved by regarding the page-rank centrality removal. We also observe that the network is very robust when removing the nodes randomly."
   ]
  },
  {
   "cell_type": "markdown",
   "metadata": {},
   "source": [
    "## 5. Correlations\n",
    "\n",
    "The correlation between two nodes measure at which extent the degrees of the two nodes are related. Correlation can be computed in two different ways.\n",
    "\n",
    "(i) **Assortativity Degree**: given a network, it measures at which extent the degree of a node is linearly related to its neighbors' degree. It takes values in the range [-1,1]. A coefficient of 1 stands for a total positive linear correlation, 0 is no linear correlation, and −1 is total negative linear correlation. It is computed as follows\n",
    "$$\n",
    "r = \\frac{\\langle k_ik_j \\rangle-\\langle k\\rangle^2}{\\langle k^2 \\rangle-\\langle k\\rangle^2},\n",
    "$$\n",
    "where $\\langle k\\rangle$ is the average degree of the network, $\\langle k^2\\rangle$ is the average of the squared degree of the network and $\\langle k_ik_j\\rangle$ is the average of the product of the degrees of all pairs of neighboring nodes.\n",
    "\n",
    "(ii) **Average Neighbor Degree**: given a node $i$, it is the average of its neighbor's degree. It is computed as follows\n",
    "$$\n",
    "k_{nn,i}=\\frac{1}{|N(i)|}\\sum_{j\\in N(i)}k_j,\n",
    "$$\n",
    "where $|N(i)|$ is the number of nodes neighbouring $i$ and $k_j$ is the degree of node $j$. \n",
    "\n",
    "We distinguish three different types of networks depending on the values of $r$ and the behavior of the plot $k$-$k_{nn}$:\n",
    "* Assortative: the plot displays an increasing tendency. It happens when the assortativity degree is positive.\n",
    "* Disassortative: the plot displays a dencreasing tendency. It happens when the assortativity degree is negative.\n",
    "* No structure: the plot does not display any particular structure. It happens when the assortativity degree is 0.\n"
   ]
  },
  {
   "cell_type": "markdown",
   "metadata": {},
   "source": [
    "**Let us begin by computing the assortativity degree.**"
   ]
  },
  {
   "cell_type": "code",
   "execution_count": 39,
   "metadata": {},
   "outputs": [
    {
     "name": "stdout",
     "output_type": "stream",
     "text": [
      "Degree assortativity of the graph: -0.010965433440751684\n"
     ]
    }
   ],
   "source": [
    "print('Degree assortativity of the graph:', nx.degree_assortativity_coefficient(G))"
   ]
  },
  {
   "cell_type": "markdown",
   "metadata": {},
   "source": [
    "There is another equivalent function to compute it, called *degree_pearson_correlation_coefficient*, that uses the potentially faster *scipy.stats.pearson* r function."
   ]
  },
  {
   "cell_type": "code",
   "execution_count": 40,
   "metadata": {},
   "outputs": [
    {
     "name": "stdout",
     "output_type": "stream",
     "text": [
      "Degree assortativity of the graph by means of the pearson r function: -0.010965433440751668\n"
     ]
    }
   ],
   "source": [
    "print('Degree assortativity of the graph by means of the pearson r function:', nx.degree_pearson_correlation_coefficient(G))"
   ]
  },
  {
   "cell_type": "markdown",
   "metadata": {},
   "source": [
    "Since the correlation coefficient is quite close to 0, we can assert that there is no linear correlation between both degrees."
   ]
  },
  {
   "cell_type": "markdown",
   "metadata": {},
   "source": [
    "**Let us now compute the average neighbor degree.**\n",
    "\n",
    "We expect a relation given by \n",
    "$$\n",
    "k_{nn}(k)\\sim k^{-\\nu}.\n",
    "$$"
   ]
  },
  {
   "cell_type": "code",
   "execution_count": 41,
   "metadata": {},
   "outputs": [],
   "source": [
    "AvNeigDegree = nx.average_neighbor_degree(G)\n",
    "Degree = dict(G.degree)"
   ]
  },
  {
   "cell_type": "code",
   "execution_count": 42,
   "metadata": {},
   "outputs": [
    {
     "data": {
      "image/png": "[encoded data removed]",
      "text/plain": [
       "<Figure size 432x288 with 1 Axes>"
      ]
     },
     "metadata": {
      "needs_background": "light"
     },
     "output_type": "display_data"
    }
   ],
   "source": [
    "plt.plot(list(Degree.values()), list(AvNeigDegree.values()), 'o')\n",
    "plt.title('Average neigbour degree')\n",
    "plt.xlabel('Degree')\n",
    "plt.ylabel('Avg. neighbour degree')\n",
    "plt.show()"
   ]
  },
  {
   "cell_type": "markdown",
   "metadata": {},
   "source": [
    "Equivalently, by taking logarithms, we expect a relation given by\n",
    "$$\n",
    "\\log(k_{nn}(k))\\sim -\\nu \\log(k).\n",
    "$$\n",
    "\n",
    "Let us now plot it taking logarithms and perform a linear regression. Since the assortativity degree was -0.01, we expect our network not to be assortative nor disassortative. That is, we do not expect a linear relation between $k$ and $k_{nn}$. Therefore, $\\nu$ should be close to 0."
   ]
  },
  {
   "cell_type": "code",
   "execution_count": 43,
   "metadata": {},
   "outputs": [],
   "source": [
    "import sklearn\n",
    "from sklearn.linear_model import LinearRegression"
   ]
  },
  {
   "cell_type": "code",
   "execution_count": 44,
   "metadata": {},
   "outputs": [],
   "source": [
    "x = []\n",
    "for i in list(Degree.values()):\n",
    "    if i != 0:\n",
    "        x.append(np.log10(i))\n",
    "    else:\n",
    "        x.append(0)\n",
    "        \n",
    "y = []\n",
    "for i in list(AvNeigDegree.values()):\n",
    "    if i != 0:\n",
    "        y.append(np.log10(i))\n",
    "    else:\n",
    "        y.append(0)\n",
    "        \n",
    "x = np.array(x).reshape(-1,1)\n",
    "y = np.array(y).reshape(-1,1)"
   ]
  },
  {
   "cell_type": "code",
   "execution_count": 45,
   "metadata": {},
   "outputs": [],
   "source": [
    "Linreg = LinearRegression().fit(x, y)"
   ]
  },
  {
   "cell_type": "code",
   "execution_count": 46,
   "metadata": {},
   "outputs": [
    {
     "data": {
      "image/png": "[encoded data removed]",
      "text/plain": [
       "<Figure size 432x288 with 1 Axes>"
      ]
     },
     "metadata": {
      "needs_background": "light"
     },
     "output_type": "display_data"
    }
   ],
   "source": [
    "plt.plot(10**x, 10**y, 'o')\n",
    "plt.plot(10**x, 10**Linreg.predict(x),color='k')\n",
    "plt.title('Average neigbour degree')\n",
    "plt.xlabel('Degree')\n",
    "plt.ylabel('Avg. neighbour degree')\n",
    "plt.xscale('log')\n",
    "plt.yscale('log')\n",
    "plt.show()"
   ]
  },
  {
   "cell_type": "code",
   "execution_count": 80,
   "metadata": {},
   "outputs": [
    {
     "name": "stdout",
     "output_type": "stream",
     "text": [
      "The slope of the fitting line is -0.006798579298801918\n"
     ]
    }
   ],
   "source": [
    "print(\"The slope of the fitting line is {}\".format(Linreg.coef_[0][0]))"
   ]
  },
  {
   "cell_type": "markdown",
   "metadata": {},
   "source": [
    "As expected, the above plot does not display any type of structure. In other words, there is no linear correlation between $k$ and $k_{nn}$. In particular, the slope of the fitting line is $\\nu\\sim 0.006$."
   ]
  },
  {
   "cell_type": "code",
   "execution_count": null,
   "metadata": {},
   "outputs": [],
   "source": []
  }
 ],
 "metadata": {
  "kernelspec": {
   "display_name": "Python (CN)",
   "language": "python",
   "name": "cn"
  },
  "language_info": {
   "codemirror_mode": {
    "name": "ipython",
    "version": 3
   },
   "file_extension": ".py",
   "mimetype": "text/x-python",
   "name": "python",
   "nbconvert_exporter": "python",
   "pygments_lexer": "ipython3",
   "version": "3.8.1"
  }
 },
 "nbformat": 4,
 "nbformat_minor": 4
}
